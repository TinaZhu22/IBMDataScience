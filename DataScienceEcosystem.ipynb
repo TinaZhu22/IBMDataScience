{
 "cells": [
  {
   "cell_type": "markdown",
   "id": "cee4f9b8",
   "metadata": {},
   "source": [
    "# Data Science Tools and Ecosystem"
   ]
  },
  {
   "cell_type": "markdown",
   "id": "b727bdf7",
   "metadata": {},
   "source": [
    "In this notebook, Data Science Tools and Ecosystem are summarized."
   ]
  },
  {
   "cell_type": "markdown",
   "id": "c12b025f",
   "metadata": {},
   "source": [
    "Some of the popular languages that Data Scientists use are:"
   ]
  },
  {
   "cell_type": "markdown",
   "id": "5b1ef351",
   "metadata": {},
   "source": [
    "1. Python \n",
    "2. R  \n",
    "3. SQL "
   ]
  },
  {
   "cell_type": "markdown",
   "id": "e98e94bf",
   "metadata": {},
   "source": [
    "Some of the commonly used libraries used by Data Scientists include:"
   ]
  },
  {
   "cell_type": "markdown",
   "id": "0feb5741",
   "metadata": {},
   "source": [
    "1. Panda\n",
    "2. Numpy\n",
    "3.TensorFlow"
   ]
  },
  {
   "cell_type": "markdown",
   "id": "a08fea70",
   "metadata": {},
   "source": [
    "| Data Science Tools |\n",
    "| -------------| \n",
    "| R studio | \n",
    "| Spider | \n",
    "| Apache Hadoop | "
   ]
  },
  {
   "cell_type": "markdown",
   "id": "97071f15",
   "metadata": {},
   "source": [
    "### Below are a few examples of evaluating arithmetic expressions in Python"
   ]
  },
  {
   "cell_type": "code",
   "execution_count": 4,
   "id": "74d77122",
   "metadata": {},
   "outputs": [
    {
     "data": {
      "text/plain": [
       "17"
      ]
     },
     "execution_count": 4,
     "metadata": {},
     "output_type": "execute_result"
    }
   ],
   "source": [
    "(3*4)+5\n",
    "##This a simple arithmetic expression to mutiply then add integers"
   ]
  },
  {
   "cell_type": "code",
   "execution_count": 6,
   "id": "4901ce51",
   "metadata": {},
   "outputs": [
    {
     "data": {
      "text/plain": [
       "3.3333333333333335"
      ]
     },
     "execution_count": 6,
     "metadata": {},
     "output_type": "execute_result"
    }
   ],
   "source": [
    "200/60\n",
    "##This will convert 200 minutes to hours by diving by 60"
   ]
  },
  {
   "cell_type": "markdown",
   "id": "7818e0e1",
   "metadata": {},
   "source": [
    "Objectives:\n",
    "\n",
    "- List different data science language\n",
    "- Get familar with different data science tools\n",
    "- List popular libraries used in data science\n"
   ]
  },
  {
   "cell_type": "markdown",
   "id": "62cf0880",
   "metadata": {},
   "source": [
    "## Author\n",
    "Jinyu Zhu"
   ]
  }
 ],
 "metadata": {
  "kernelspec": {
   "display_name": "Python 3 (ipykernel)",
   "language": "python",
   "name": "python3"
  },
  "language_info": {
   "codemirror_mode": {
    "name": "ipython",
    "version": 3
   },
   "file_extension": ".py",
   "mimetype": "text/x-python",
   "name": "python",
   "nbconvert_exporter": "python",
   "pygments_lexer": "ipython3",
   "version": "3.9.12"
  }
 },
 "nbformat": 4,
 "nbformat_minor": 5
}
